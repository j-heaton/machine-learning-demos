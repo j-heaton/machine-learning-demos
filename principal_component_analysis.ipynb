{
 "cells": [
  {
   "cell_type": "code",
   "execution_count": 180,
   "metadata": {},
   "outputs": [
    {
     "name": "stdout",
     "output_type": "stream",
     "text": [
      "mean = \n",
      "[[3.125]\n",
      " [1.   ]\n",
      " [1.75 ]]\n",
      "\n",
      "centered data matrix = \n",
      "[[-5.125 -2.125  0.875  2.875  1.875 -0.125  2.875 -1.125]\n",
      " [ 8.     2.     1.    -2.    -5.    -3.    -5.     4.   ]\n",
      " [-1.75   5.25  -6.75   1.25   0.25  -4.75   2.25   4.25 ]]\n",
      "\n",
      "covariance matrix = \n",
      "[[ 52.875 -78.     -1.75 ]\n",
      " [-78.    148.      6.   ]\n",
      " [ -1.75    6.    123.5  ]]\n",
      "\n",
      "first principal value = \n",
      "192.3336221694256\n",
      "first principal component = \n",
      "[-0.48990322  0.86889736 -0.07079702]\n",
      "\n",
      "1D representation of the data matrix: \n",
      "[ 8.79988264  1.62120968  0.13216694 -4.02070776 -6.06669958 -2.99511331\n",
      " -6.69819685  2.93989819]\n",
      "\n",
      "2D representation of the data matrix: \n",
      "[ 0.76838991  7.24895408 -4.75449724  2.97411133  1.70135538 -3.12727651\n",
      "  3.70577719  6.4415216 ]\n",
      "\n",
      "the optimal representation of the data is of dimension d = 1\n",
      "1-dimensional representation: \n",
      "[ 8.79988264  1.62120968  0.13216694 -4.02070776 -6.06669958 -2.99511331\n",
      " -6.69819685  2.93989819]\n"
     ]
    }
   ],
   "source": [
    "import numpy as np\n",
    "\n",
    "#load in data\n",
    "X = np.array([[-2, 1, 4, 6, 5, 3, 6, 2], [9, 3, 2, -1, -4, -2, -4, 5], [0, 7, -5, 3, 2, -3, 4, 6]])\n",
    "\n",
    "#compute mean of data\n",
    "mu = mean(X)\n",
    "print(f'mean = \\n{mu}\\n')\n",
    "\n",
    "#center data matrix\n",
    "X1 = center(X)\n",
    "print(f'centered data matrix = \\n{X1}\\n')\n",
    "\n",
    "#compute covariance matrix\n",
    "C = covariance(X1)\n",
    "print(f'covariance matrix = \\n{C}\\n')\n",
    "\n",
    "#get the first principal value and the first principal component\n",
    "fpv, fpc = first_principals(C)\n",
    "print(f'first principal value = \\n{fpv}')\n",
    "print(f'first principal component = \\n{fpc}\\n')\n",
    "\n",
    "#1D representation of the data matrix\n",
    "X_1d = oneD(X, fpc)\n",
    "print(f'1D representation of the data matrix: \\n{X_1d}\\n')\n",
    "\n",
    "#k-dimensional representation of the data matrix\n",
    "X_2d, W = mypca(X,2)\n",
    "print(f'2D representation of the data matrix: \\n{X_2d}\\n')\n",
    "\n",
    "#find the optimal representation of the data matrix\n",
    "X_kd = optimal(X)"
   ]
  },
  {
   "cell_type": "code",
   "execution_count": 33,
   "metadata": {},
   "outputs": [],
   "source": [
    "def mean(X):\n",
    "    n = np.size(X,1)\n",
    "    ones = np.ones((n,1))\n",
    "    return (1/n)*(X.dot(ones))"
   ]
  },
  {
   "cell_type": "code",
   "execution_count": 41,
   "metadata": {},
   "outputs": [],
   "source": [
    "def center(X):\n",
    "    I = np.identity(n)\n",
    "    return X.dot(I-(1/n)*(ones.dot(np.transpose(ones))))    "
   ]
  },
  {
   "cell_type": "code",
   "execution_count": 49,
   "metadata": {},
   "outputs": [],
   "source": [
    "def covariance(X1):\n",
    "    return X1.dot(np.transpose(X1))"
   ]
  },
  {
   "cell_type": "code",
   "execution_count": 90,
   "metadata": {},
   "outputs": [],
   "source": [
    "def first_principals(C):\n",
    "    u, v = np.linalg.eig(C)\n",
    "    i = np.argmax(u)\n",
    "    return u[i], v[i]"
   ]
  },
  {
   "cell_type": "code",
   "execution_count": 131,
   "metadata": {},
   "outputs": [],
   "source": [
    "def oneD(X, fpc):\n",
    "    return np.transpose(fpc).dot(X)"
   ]
  },
  {
   "cell_type": "code",
   "execution_count": 135,
   "metadata": {},
   "outputs": [],
   "source": [
    "def mypca(X, k):\n",
    "    d = np.size(X,0)\n",
    "    mu = mean(X)\n",
    "    X1 = center(X)\n",
    "    u, v = np.linalg.eig(C)\n",
    "    for j in range(0,k):\n",
    "        i = np.argmax(u)\n",
    "        W = v[i]\n",
    "        u = np.delete(u,i)\n",
    "        v = np.delete(v,i,0)\n",
    "        j += 1\n",
    "    return np.transpose(W).dot(X), W\n",
    "    "
   ]
  },
  {
   "cell_type": "code",
   "execution_count": 179,
   "metadata": {},
   "outputs": [],
   "source": [
    "def optimal(X):\n",
    "    d = np.size(X,0)\n",
    "    Z, W = mypca(X,1)\n",
    "    W.shape = (d,1)\n",
    "    err = np.linalg.norm(X-W.dot(np.transpose(W).dot(X)))\n",
    "    ERR = np.array(err)\n",
    "    for k in range(1,d):\n",
    "        Z, W = mypca(X,k)\n",
    "        W.shape = (d,1)\n",
    "        err = np.linalg.norm(X-W.dot(np.transpose(W).dot(X)))\n",
    "        ERR = np.append(ERR, err)\n",
    "        k += 1\n",
    "    min = np.argmin(ERR)\n",
    "    print(f'the optimal representation of the data is of dimension d = {min+1}')\n",
    "    Z, W = mypca(X,min+1)\n",
    "    print(f'{min+1}-dimensional representation: \\n{Z}')\n",
    "    return Z\n",
    "    "
   ]
  }
 ],
 "metadata": {
  "kernelspec": {
   "display_name": "Python 3",
   "language": "python",
   "name": "python3"
  },
  "language_info": {
   "codemirror_mode": {
    "name": "ipython",
    "version": 3
   },
   "file_extension": ".py",
   "mimetype": "text/x-python",
   "name": "python",
   "nbconvert_exporter": "python",
   "pygments_lexer": "ipython3",
   "version": "3.6.9"
  }
 },
 "nbformat": 4,
 "nbformat_minor": 4
}
