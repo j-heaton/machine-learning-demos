{
 "cells": [
  {
   "cell_type": "code",
   "execution_count": 51,
   "metadata": {},
   "outputs": [
    {
     "name": "stdout",
     "output_type": "stream",
     "text": [
      "mean of positive data : \n",
      "[[4.   ]\n",
      " [3.125]\n",
      " [0.25 ]]\n",
      "\n",
      "mean of negative data : \n",
      "[[-8.4]\n",
      " [-7.6]\n",
      " [-0.2]]\n",
      "\n",
      "covariance matrix for Xp: \n",
      "[[ 3.75     -0.75     -0.625   ]\n",
      " [-0.75      2.109375 -0.15625 ]\n",
      " [-0.625    -0.15625   0.4375  ]]\n",
      "\n",
      "covariance matrix for Xn: \n",
      "[[284.08 255.32   6.44]\n",
      " [255.32 233.68   6.36]\n",
      " [  6.44   6.36   0.72]]\n",
      "\n",
      "between class scattering matrix: \n",
      "[[36.39289941 31.47692308  1.32071006]\n",
      " [31.47692308 27.225       1.14230769]\n",
      " [ 1.32071006  1.14230769  0.04792899]]\n",
      "\n",
      "within class scattering matrix: \n",
      "[[111.56923077  97.73846154   2.09230769]\n",
      " [ 97.73846154  91.175        2.35      ]\n",
      " [  2.09230769   2.35         0.54615385]]\n",
      "\n",
      "projection direction: \n",
      "[ 0.3084552  -0.13425564  0.94171695]\n",
      "\n",
      "projection direction: \n",
      "[ 0.3084552  -0.13425564  0.94171695]\n",
      "\n",
      "classification of X: \n",
      "[-1.  1.  1. -1.  1.  1.]\n",
      "\n"
     ]
    }
   ],
   "source": [
    "import numpy as np\n",
    "\n",
    "#load in data\n",
    "Xp = np.array([[4, 2, 2, 3, 4, 6, 3, 8], [1, 4, 3, 6, 4, 2, 2, 3], [0, 1, 1, 0, -1, 0, 1, 0]])\n",
    "Xn = np.array([[9, 6, 9, 8, 10], [10, 8, 5, 7, 8], [1, 0, 0, 1, -1]])\n",
    "npos = np.size(Xp,1)\n",
    "nneg = np.size(Xn,1)\n",
    "\n",
    "#compute mean of data\n",
    "mup = meanp(Xp)\n",
    "print(f'mean of positive data : \\n{mup}\\n')\n",
    "mun = meann(Xn)\n",
    "print(f'mean of negative data : \\n{mun}\\n')\n",
    "\n",
    "#compute covariance matrices\n",
    "Cp = covariance(Xp, mup)\n",
    "print(f'covariance matrix for Xp: \\n{Cp}\\n')\n",
    "Cn = covariance(Xn, mun)\n",
    "print(f'covariance matrix for Xn: \\n{Cn}\\n')\n",
    "\n",
    "#compute between class scattering matrix\n",
    "Sb = BCSM(npos, nneg, mup, mun)\n",
    "print(f'between class scattering matrix: \\n{Sb}\\n')\n",
    "\n",
    "#compute within class scattering matrix\n",
    "Sw = WCSM(npos, nneg, Cp, Cn)\n",
    "print(f'within class scattering matrix: \\n{Sw}\\n')\n",
    "\n",
    "#compute LDA projection\n",
    "v = solveLDA(Sb, Sw)\n",
    "print(f'projection direction: \\n{v}\\n')\n",
    "\n",
    "#compute optimal LDA projection direction of two data matrices\n",
    "w = mybLDA_train(Xp, Xn)\n",
    "print(f'projection direction: \\n{w}\\n')\n",
    "\n",
    "#load in data to be classified\n",
    "X = np.array([[1.3, 2.4, 6.7, 2.2, 3.4, 3.2], [8.1, 7.6, 2.1, 1.1, 0.5, 7.4], [-1, 2, 3, -2, 0, 2]])\n",
    "\n",
    "#classify data\n",
    "r = mybLDA_classify(X,v)\n",
    "print(f'classification of X: \\n{r}\\n')"
   ]
  },
  {
   "cell_type": "code",
   "execution_count": 3,
   "metadata": {},
   "outputs": [],
   "source": [
    "def meanp(X):\n",
    "    n = np.size(X,1)\n",
    "    ones = np.ones((n,1))\n",
    "    return (1/n)*(X.dot(ones))"
   ]
  },
  {
   "cell_type": "code",
   "execution_count": 6,
   "metadata": {},
   "outputs": [],
   "source": [
    "def meann(X):\n",
    "    n = np.size(X,1)\n",
    "    ones = -1*np.ones((n,1))\n",
    "    return (1/n)*(X.dot(ones))"
   ]
  },
  {
   "cell_type": "code",
   "execution_count": 11,
   "metadata": {},
   "outputs": [],
   "source": [
    "def covariance(X, mu):\n",
    "    n = np.size(X,1)\n",
    "    return (1/n)*(X-mu).dot(np.transpose(X-mu))"
   ]
  },
  {
   "cell_type": "code",
   "execution_count": 19,
   "metadata": {},
   "outputs": [],
   "source": [
    "def BCSM(npos, nneg, mup, mun):\n",
    "    n = npos + nneg\n",
    "    return ((npos*nneg)/n**2)*(mup-mun).dot(np.transpose(mup-mun))"
   ]
  },
  {
   "cell_type": "code",
   "execution_count": 22,
   "metadata": {},
   "outputs": [],
   "source": [
    "def WCSM(npos, nneg, Cp, Cn):\n",
    "    n = npos + nneg\n",
    "    return (npos/n)*Cp+(nneg/n)*Cn"
   ]
  },
  {
   "cell_type": "code",
   "execution_count": 32,
   "metadata": {},
   "outputs": [],
   "source": [
    "def solveLDA(Sb, Sw):\n",
    "    Swi = np.linalg.inv(Sw)\n",
    "    w, v = np.linalg.eig(Swi.dot(Sb))\n",
    "    return v[:,0]"
   ]
  },
  {
   "cell_type": "code",
   "execution_count": 37,
   "metadata": {},
   "outputs": [],
   "source": [
    "def mybLDA_train(Xp, Xn):\n",
    "    npos = np.size(Xp,1)\n",
    "    nneg = np.size(Xn,1)\n",
    "    mup = meanp(Xp)\n",
    "    mun = meann(Xn)\n",
    "    Cp = covariance(Xp, mup)\n",
    "    Cn = covariance(Xn, mun)\n",
    "    Sb = BCSM(npos, nneg, mup, mun)\n",
    "    Sw = WCSM(npos, nneg, Cp, Cn)\n",
    "    return solveLDA(Sb, Sw)"
   ]
  },
  {
   "cell_type": "code",
   "execution_count": 50,
   "metadata": {},
   "outputs": [],
   "source": [
    "def mybLDA_classify(X,v):\n",
    "    n = np.size(X,1)\n",
    "    r = np.zeros(n)\n",
    "    for i in range(0,n):\n",
    "        if (X[:,i].dot(v)) > 0:\n",
    "            r[i] = 1\n",
    "        else:\n",
    "            r[i] = -1\n",
    "    return r"
   ]
  }
 ],
 "metadata": {
  "kernelspec": {
   "display_name": "Python 3",
   "language": "python",
   "name": "python3"
  },
  "language_info": {
   "codemirror_mode": {
    "name": "ipython",
    "version": 3
   },
   "file_extension": ".py",
   "mimetype": "text/x-python",
   "name": "python",
   "nbconvert_exporter": "python",
   "pygments_lexer": "ipython3",
   "version": "3.6.9"
  }
 },
 "nbformat": 4,
 "nbformat_minor": 4
}
